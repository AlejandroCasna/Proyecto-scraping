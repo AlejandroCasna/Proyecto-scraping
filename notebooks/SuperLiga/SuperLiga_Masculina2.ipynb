{
 "cells": [
  {
   "cell_type": "code",
   "execution_count": 9,
   "id": "1c0478ad",
   "metadata": {},
   "outputs": [],
   "source": [
    "import pandas as pd\n",
    "from selenium import webdriver\n",
    "from selenium.webdriver.chrome.options import Options\n",
    "from webdriver_manager.chrome import ChromeDriverManager\n",
    "from selenium.webdriver.common.by import By\n",
    "import multiprocessing as mp\n",
    "from joblib import Parallel, delayed\n",
    "from selenium.webdriver.support.ui import Select\n",
    "\n",
    "import time\n",
    "\n",
    "import pandas as pd\n"
   ]
  },
  {
   "cell_type": "code",
   "execution_count": 10,
   "id": "844cfc49",
   "metadata": {},
   "outputs": [],
   "source": [
    "opciones=Options()\n",
    "opciones.add_experimental_option('excludeSwitches', ['enable-automation'])\n",
    "opciones.add_experimental_option('useAutomationExtension', False)\n",
    "opciones.add_argument('--incognito')\n",
    "opciones.add_argument('--start-maximized')"
   ]
  },
  {
   "cell_type": "code",
   "execution_count": 11,
   "id": "4cbbd704",
   "metadata": {},
   "outputs": [],
   "source": [
    "url = 'https://www.rfevb.com/competiciones/superliga-masculina-2'\n",
    "driver = webdriver.Chrome(options = opciones)\n",
    "driver.get(url)"
   ]
  },
  {
   "cell_type": "code",
   "execution_count": 12,
   "id": "f55aa8c7",
   "metadata": {},
   "outputs": [],
   "source": [
    "# Click cookies\n",
    "driver.find_element(By.XPATH , '//*[@id=\"lnkCookie\"]').click()"
   ]
  },
  {
   "cell_type": "code",
   "execution_count": 13,
   "id": "2346670c",
   "metadata": {},
   "outputs": [],
   "source": [
    "# Entramos en plantilla\n",
    "driver.find_element(By.XPATH , '//*[@id=\"miWrapper\"]/ul/li[3]/ul/li[1]/a').click()"
   ]
  },
  {
   "cell_type": "code",
   "execution_count": 14,
   "id": "bd173248",
   "metadata": {},
   "outputs": [],
   "source": [
    "equipos = driver.find_elements(By.CLASS_NAME, 'rlvI')[0:35]\n",
    "# Verificamos que los que nos devuelve son datos de mas entonces reiniciamos la lista con los elementos que nos interesa."
   ]
  },
  {
   "cell_type": "code",
   "execution_count": 15,
   "id": "3a919d45",
   "metadata": {},
   "outputs": [
    {
     "name": "stdout",
     "output_type": "stream",
     "text": [
      "Arona Playa de los Cristianos\n",
      "Estoy dentro.\n",
      "Extraigo\n",
      "Barça Voleibol\n",
      "Estoy dentro.\n",
      "Extraigo\n",
      "CD Judesa Vóley\n",
      "Estoy dentro.\n",
      "Extraigo\n",
      "CID Jovellanos - Gijón Vóley\n",
      "Estoy dentro.\n",
      "Extraigo\n",
      "Cisneros Alter\n",
      "Estoy dentro.\n",
      "Extraigo\n",
      "Club Vigo Voleibol\n",
      "Estoy dentro.\n",
      "Extraigo\n",
      "CN Sabadell\n",
      "Estoy dentro.\n",
      "Extraigo\n",
      "Costa del Vóley\n",
      "Estoy dentro.\n",
      "Extraigo\n",
      "CUV Alcorcón\n",
      "Estoy dentro.\n",
      "Extraigo\n",
      "CV Almendralejo Extremadura\n",
      "Estoy dentro.\n",
      "Extraigo\n",
      "CV Almoradí\n",
      "Estoy dentro.\n",
      "Extraigo\n",
      "CV Collado Villalba\n",
      "Estoy dentro.\n",
      "Extraigo\n",
      "CV Mediterráneo Castellón\n",
      "Estoy dentro.\n",
      "Extraigo\n",
      "CV Roquetes\n",
      "Estoy dentro.\n",
      "Extraigo\n",
      "CV Utrera\n",
      "Estoy dentro.\n",
      "Extraigo\n",
      "CV Zaragoza Indescar\n",
      "Estoy dentro.\n",
      "Extraigo\n",
      "cvleganes.com\n",
      "Estoy dentro.\n",
      "Extraigo\n",
      "CVS Tren de Sòller\n",
      "Estoy dentro.\n",
      "Extraigo\n",
      "CyL Palencia 2024\n",
      "Estoy dentro.\n",
      "Extraigo\n",
      "Extremadura Grupo Laura Otero\n",
      "Estoy dentro.\n",
      "Extraigo\n",
      "Familycash Xátiva VB\n",
      "Estoy dentro.\n",
      "Extraigo\n",
      "Grupo Egido Pinto\n",
      "Estoy dentro.\n",
      "Extraigo\n",
      "Instercap Asisa Tarragona SPSP\n",
      "Estoy dentro.\n",
      "Extraigo\n",
      "Intasa San Sadurniño\n",
      "Estoy dentro.\n",
      "Extraigo\n",
      "Michelin Mintonette Almería\n",
      "Estoy dentro.\n",
      "Extraigo\n",
      "Rodi Balafia Lleida\n",
      "Estoy dentro.\n",
      "Extraigo\n",
      "Rotogal Boiro Voleibol\n",
      "Estoy dentro.\n",
      "Extraigo\n",
      "Servigroup Benidorm\n",
      "Estoy dentro.\n",
      "Extraigo\n",
      "Sporting CV Soria\n",
      "Estoy dentro.\n",
      "Extraigo\n",
      "SUAC Canarias\n",
      "Estoy dentro.\n",
      "Extraigo\n",
      "UBE L´Illa Grau\n",
      "Estoy dentro.\n",
      "Extraigo\n",
      "UD Ibiza Voley\n",
      "Estoy dentro.\n",
      "Extraigo\n",
      "Universidad Valladolid VCV\n",
      "Estoy dentro.\n",
      "Extraigo\n",
      "Voley Dumbria\n",
      "Estoy dentro.\n",
      "Extraigo\n",
      "Voley Textil Santanderina\n",
      "Estoy dentro.\n",
      "Extraigo\n"
     ]
    }
   ],
   "source": [
    "superLiga_Masculino2=[]\n",
    "for i in range(35):\n",
    "    \n",
    "    e = driver.find_elements(By.CLASS_NAME, 'rlvI')[i]\n",
    "    \n",
    "    print(e.text)\n",
    "    \n",
    "    e.click()\n",
    "    \n",
    "    print('Estoy dentro.')\n",
    "    \n",
    "    time.sleep(2)\n",
    "   \n",
    "    superLiga_Masculino2.append(driver.find_elements(By.CLASS_NAME , 't-row')[3].text.split('\\n'))\n",
    "    \n",
    "    print('Extraigo')\n",
    "    \n",
    "    time.sleep(2)\n",
    "    \n",
    "    driver.get('https://rfevb-web.dataproject.com/CompetitionTeamSearch.aspx?ID=125')\n",
    "    \n",
    "    time.sleep(2)\n",
    "    "
   ]
  },
  {
   "cell_type": "code",
   "execution_count": 17,
   "id": "7be01b10",
   "metadata": {},
   "outputs": [
    {
     "data": {
      "text/plain": [
       "35"
      ]
     },
     "execution_count": 17,
     "metadata": {},
     "output_type": "execute_result"
    }
   ],
   "source": [
    "len(superLiga_Masculino2)"
   ]
  },
  {
   "cell_type": "code",
   "execution_count": null,
   "id": "e9ebea8d",
   "metadata": {},
   "outputs": [],
   "source": []
  },
  {
   "cell_type": "code",
   "execution_count": null,
   "id": "7aa3c388",
   "metadata": {},
   "outputs": [],
   "source": []
  },
  {
   "cell_type": "code",
   "execution_count": null,
   "id": "dee4cb12",
   "metadata": {},
   "outputs": [],
   "source": []
  }
 ],
 "metadata": {
  "kernelspec": {
   "display_name": "clase",
   "language": "python",
   "name": "clase"
  },
  "language_info": {
   "codemirror_mode": {
    "name": "ipython",
    "version": 3
   },
   "file_extension": ".py",
   "mimetype": "text/x-python",
   "name": "python",
   "nbconvert_exporter": "python",
   "pygments_lexer": "ipython3",
   "version": "3.10.13"
  }
 },
 "nbformat": 4,
 "nbformat_minor": 5
}
