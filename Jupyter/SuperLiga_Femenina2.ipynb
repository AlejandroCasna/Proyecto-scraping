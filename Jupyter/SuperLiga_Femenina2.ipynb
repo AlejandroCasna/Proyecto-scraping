{
 "cells": [
  {
   "cell_type": "code",
   "execution_count": 54,
   "id": "ec3a9856",
   "metadata": {},
   "outputs": [],
   "source": [
    "import pandas as pd\n",
    "from selenium import webdriver\n",
    "from selenium.webdriver.chrome.options import Options\n",
    "from webdriver_manager.chrome import ChromeDriverManager\n",
    "from selenium.webdriver.common.by import By\n",
    "import multiprocessing as mp\n",
    "from joblib import Parallel, delayed\n",
    "from selenium.webdriver.support.ui import Select\n",
    "\n",
    "import time\n",
    "\n",
    "import pandas as pd"
   ]
  },
  {
   "cell_type": "code",
   "execution_count": 55,
   "id": "863c8d95",
   "metadata": {},
   "outputs": [],
   "source": [
    "opciones=Options()\n",
    "opciones.add_experimental_option('excludeSwitches', ['enable-automation'])\n",
    "opciones.add_experimental_option('useAutomationExtension', False)\n",
    "opciones.add_argument('--incognito')\n",
    "opciones.add_argument('--start-maximized')"
   ]
  },
  {
   "cell_type": "code",
   "execution_count": 56,
   "id": "aeaef3db",
   "metadata": {},
   "outputs": [],
   "source": [
    "url = 'https://rfevb-web.dataproject.com/CompetitionTeamSearch.aspx?ID=122'\n",
    "driver = webdriver.Chrome(options = opciones)\n",
    "driver.get(url)"
   ]
  },
  {
   "cell_type": "code",
   "execution_count": 57,
   "id": "6a8e6157",
   "metadata": {},
   "outputs": [],
   "source": [
    "# Click cookies\n",
    "#driver.find_element(By.XPATH , '//*[@id=\"lnkCookie\"]').click()"
   ]
  },
  {
   "cell_type": "code",
   "execution_count": 58,
   "id": "6d5fe84c",
   "metadata": {},
   "outputs": [
    {
     "ename": "NoSuchElementException",
     "evalue": "Message: no such element: Unable to locate element: {\"method\":\"xpath\",\"selector\":\"//*[@id=\"miWrapper\"]/ul/li[3]/ul/li[1]/a\"}\n  (Session info: chrome=119.0.6045.106); For documentation on this error, please visit: https://www.selenium.dev/documentation/webdriver/troubleshooting/errors#no-such-element-exception\nStacktrace:\n\tGetHandleVerifier [0x00007FF608F882B2+55298]\n\t(No symbol) [0x00007FF608EF5E02]\n\t(No symbol) [0x00007FF608DB05AB]\n\t(No symbol) [0x00007FF608DF175C]\n\t(No symbol) [0x00007FF608DF18DC]\n\t(No symbol) [0x00007FF608E2CBC7]\n\t(No symbol) [0x00007FF608E120EF]\n\t(No symbol) [0x00007FF608E2AAA4]\n\t(No symbol) [0x00007FF608E11E83]\n\t(No symbol) [0x00007FF608DE670A]\n\t(No symbol) [0x00007FF608DE7964]\n\tGetHandleVerifier [0x00007FF609300AAB+3694587]\n\tGetHandleVerifier [0x00007FF60935728E+4048862]\n\tGetHandleVerifier [0x00007FF60934F173+4015811]\n\tGetHandleVerifier [0x00007FF6090247D6+695590]\n\t(No symbol) [0x00007FF608F00CE8]\n\t(No symbol) [0x00007FF608EFCF34]\n\t(No symbol) [0x00007FF608EFD062]\n\t(No symbol) [0x00007FF608EED3A3]\n\tBaseThreadInitThunk [0x00007FFCAC5D257D+29]\n\tRtlUserThreadStart [0x00007FFCADF4AA78+40]\n",
     "output_type": "error",
     "traceback": [
      "\u001b[1;31m---------------------------------------------------------------------------\u001b[0m",
      "\u001b[1;31mNoSuchElementException\u001b[0m                    Traceback (most recent call last)",
      "Cell \u001b[1;32mIn[58], line 2\u001b[0m\n\u001b[0;32m      1\u001b[0m \u001b[38;5;66;03m# Entramos en plantilla\u001b[39;00m\n\u001b[1;32m----> 2\u001b[0m \u001b[43mdriver\u001b[49m\u001b[38;5;241;43m.\u001b[39;49m\u001b[43mfind_element\u001b[49m\u001b[43m(\u001b[49m\u001b[43mBy\u001b[49m\u001b[38;5;241;43m.\u001b[39;49m\u001b[43mXPATH\u001b[49m\u001b[43m \u001b[49m\u001b[43m,\u001b[49m\u001b[43m \u001b[49m\u001b[38;5;124;43m'\u001b[39;49m\u001b[38;5;124;43m//*[@id=\u001b[39;49m\u001b[38;5;124;43m\"\u001b[39;49m\u001b[38;5;124;43mmiWrapper\u001b[39;49m\u001b[38;5;124;43m\"\u001b[39;49m\u001b[38;5;124;43m]/ul/li[3]/ul/li[1]/a\u001b[39;49m\u001b[38;5;124;43m'\u001b[39;49m\u001b[43m)\u001b[49m\u001b[38;5;241m.\u001b[39mclick()\n",
      "File \u001b[1;32m~\\anaconda3\\envs\\clase\\lib\\site-packages\\selenium\\webdriver\\remote\\webdriver.py:738\u001b[0m, in \u001b[0;36mWebDriver.find_element\u001b[1;34m(self, by, value)\u001b[0m\n\u001b[0;32m    735\u001b[0m     by \u001b[38;5;241m=\u001b[39m By\u001b[38;5;241m.\u001b[39mCSS_SELECTOR\n\u001b[0;32m    736\u001b[0m     value \u001b[38;5;241m=\u001b[39m \u001b[38;5;124mf\u001b[39m\u001b[38;5;124m'\u001b[39m\u001b[38;5;124m[name=\u001b[39m\u001b[38;5;124m\"\u001b[39m\u001b[38;5;132;01m{\u001b[39;00mvalue\u001b[38;5;132;01m}\u001b[39;00m\u001b[38;5;124m\"\u001b[39m\u001b[38;5;124m]\u001b[39m\u001b[38;5;124m'\u001b[39m\n\u001b[1;32m--> 738\u001b[0m \u001b[38;5;28;01mreturn\u001b[39;00m \u001b[38;5;28;43mself\u001b[39;49m\u001b[38;5;241;43m.\u001b[39;49m\u001b[43mexecute\u001b[49m\u001b[43m(\u001b[49m\u001b[43mCommand\u001b[49m\u001b[38;5;241;43m.\u001b[39;49m\u001b[43mFIND_ELEMENT\u001b[49m\u001b[43m,\u001b[49m\u001b[43m \u001b[49m\u001b[43m{\u001b[49m\u001b[38;5;124;43m\"\u001b[39;49m\u001b[38;5;124;43musing\u001b[39;49m\u001b[38;5;124;43m\"\u001b[39;49m\u001b[43m:\u001b[49m\u001b[43m \u001b[49m\u001b[43mby\u001b[49m\u001b[43m,\u001b[49m\u001b[43m \u001b[49m\u001b[38;5;124;43m\"\u001b[39;49m\u001b[38;5;124;43mvalue\u001b[39;49m\u001b[38;5;124;43m\"\u001b[39;49m\u001b[43m:\u001b[49m\u001b[43m \u001b[49m\u001b[43mvalue\u001b[49m\u001b[43m}\u001b[49m\u001b[43m)\u001b[49m[\u001b[38;5;124m\"\u001b[39m\u001b[38;5;124mvalue\u001b[39m\u001b[38;5;124m\"\u001b[39m]\n",
      "File \u001b[1;32m~\\anaconda3\\envs\\clase\\lib\\site-packages\\selenium\\webdriver\\remote\\webdriver.py:344\u001b[0m, in \u001b[0;36mWebDriver.execute\u001b[1;34m(self, driver_command, params)\u001b[0m\n\u001b[0;32m    342\u001b[0m response \u001b[38;5;241m=\u001b[39m \u001b[38;5;28mself\u001b[39m\u001b[38;5;241m.\u001b[39mcommand_executor\u001b[38;5;241m.\u001b[39mexecute(driver_command, params)\n\u001b[0;32m    343\u001b[0m \u001b[38;5;28;01mif\u001b[39;00m response:\n\u001b[1;32m--> 344\u001b[0m     \u001b[38;5;28;43mself\u001b[39;49m\u001b[38;5;241;43m.\u001b[39;49m\u001b[43merror_handler\u001b[49m\u001b[38;5;241;43m.\u001b[39;49m\u001b[43mcheck_response\u001b[49m\u001b[43m(\u001b[49m\u001b[43mresponse\u001b[49m\u001b[43m)\u001b[49m\n\u001b[0;32m    345\u001b[0m     response[\u001b[38;5;124m\"\u001b[39m\u001b[38;5;124mvalue\u001b[39m\u001b[38;5;124m\"\u001b[39m] \u001b[38;5;241m=\u001b[39m \u001b[38;5;28mself\u001b[39m\u001b[38;5;241m.\u001b[39m_unwrap_value(response\u001b[38;5;241m.\u001b[39mget(\u001b[38;5;124m\"\u001b[39m\u001b[38;5;124mvalue\u001b[39m\u001b[38;5;124m\"\u001b[39m, \u001b[38;5;28;01mNone\u001b[39;00m))\n\u001b[0;32m    346\u001b[0m     \u001b[38;5;28;01mreturn\u001b[39;00m response\n",
      "File \u001b[1;32m~\\anaconda3\\envs\\clase\\lib\\site-packages\\selenium\\webdriver\\remote\\errorhandler.py:229\u001b[0m, in \u001b[0;36mErrorHandler.check_response\u001b[1;34m(self, response)\u001b[0m\n\u001b[0;32m    227\u001b[0m         alert_text \u001b[38;5;241m=\u001b[39m value[\u001b[38;5;124m\"\u001b[39m\u001b[38;5;124malert\u001b[39m\u001b[38;5;124m\"\u001b[39m]\u001b[38;5;241m.\u001b[39mget(\u001b[38;5;124m\"\u001b[39m\u001b[38;5;124mtext\u001b[39m\u001b[38;5;124m\"\u001b[39m)\n\u001b[0;32m    228\u001b[0m     \u001b[38;5;28;01mraise\u001b[39;00m exception_class(message, screen, stacktrace, alert_text)  \u001b[38;5;66;03m# type: ignore[call-arg]  # mypy is not smart enough here\u001b[39;00m\n\u001b[1;32m--> 229\u001b[0m \u001b[38;5;28;01mraise\u001b[39;00m exception_class(message, screen, stacktrace)\n",
      "\u001b[1;31mNoSuchElementException\u001b[0m: Message: no such element: Unable to locate element: {\"method\":\"xpath\",\"selector\":\"//*[@id=\"miWrapper\"]/ul/li[3]/ul/li[1]/a\"}\n  (Session info: chrome=119.0.6045.106); For documentation on this error, please visit: https://www.selenium.dev/documentation/webdriver/troubleshooting/errors#no-such-element-exception\nStacktrace:\n\tGetHandleVerifier [0x00007FF608F882B2+55298]\n\t(No symbol) [0x00007FF608EF5E02]\n\t(No symbol) [0x00007FF608DB05AB]\n\t(No symbol) [0x00007FF608DF175C]\n\t(No symbol) [0x00007FF608DF18DC]\n\t(No symbol) [0x00007FF608E2CBC7]\n\t(No symbol) [0x00007FF608E120EF]\n\t(No symbol) [0x00007FF608E2AAA4]\n\t(No symbol) [0x00007FF608E11E83]\n\t(No symbol) [0x00007FF608DE670A]\n\t(No symbol) [0x00007FF608DE7964]\n\tGetHandleVerifier [0x00007FF609300AAB+3694587]\n\tGetHandleVerifier [0x00007FF60935728E+4048862]\n\tGetHandleVerifier [0x00007FF60934F173+4015811]\n\tGetHandleVerifier [0x00007FF6090247D6+695590]\n\t(No symbol) [0x00007FF608F00CE8]\n\t(No symbol) [0x00007FF608EFCF34]\n\t(No symbol) [0x00007FF608EFD062]\n\t(No symbol) [0x00007FF608EED3A3]\n\tBaseThreadInitThunk [0x00007FFCAC5D257D+29]\n\tRtlUserThreadStart [0x00007FFCADF4AA78+40]\n"
     ]
    }
   ],
   "source": [
    "# Entramos en plantilla\n",
    "driver.find_element(By.XPATH , '//*[@id=\"miWrapper\"]/ul/li[3]/ul/li[1]/a').click()"
   ]
  },
  {
   "cell_type": "code",
   "execution_count": null,
   "id": "63f26472",
   "metadata": {},
   "outputs": [],
   "source": [
    "equipos = driver.find_elements(By.CLASS_NAME, 'rlvI')[0:35]\n",
    "# Verificamos que los que nos devuelve son datos de mas entonces reiniciamos la lista con los elementos que nos interesa."
   ]
  },
  {
   "cell_type": "code",
   "execution_count": null,
   "id": "c6f780c4",
   "metadata": {},
   "outputs": [],
   "source": [
    "equipos = driver.find_element(By.CSS_SELECTOR, '#DIV_AllContent > div.t-row-wrap.RPL_Row_Content_Main')\n"
   ]
  },
  {
   "cell_type": "code",
   "execution_count": 50,
   "id": "d806edfa",
   "metadata": {},
   "outputs": [
    {
     "data": {
      "text/plain": [
       "['#',\n",
       " 'Nombre',\n",
       " 'Posición',\n",
       " 'Altura',\n",
       " 'Año de nacimiento',\n",
       " 'Alcance en ataque',\n",
       " 'Alcance en bloqueo',\n",
       " '-',\n",
       " 'Fenoll Antolinos Lucía',\n",
       " 'Líbero',\n",
       " '168',\n",
       " '2006',\n",
       " '-',\n",
       " '-',\n",
       " '1',\n",
       " 'Pellegrino Ombroni Melina Edna Micaela',\n",
       " 'Receptor',\n",
       " '175',\n",
       " '1999',\n",
       " '-',\n",
       " '-',\n",
       " '2',\n",
       " 'Silveira Ismaray',\n",
       " 'Middle-blocker',\n",
       " '175',\n",
       " '1997',\n",
       " '-',\n",
       " '-',\n",
       " '3',\n",
       " 'Sánchez Gómez Andrea',\n",
       " 'Líbero',\n",
       " '170',\n",
       " '2004',\n",
       " '-',\n",
       " '-',\n",
       " '4',\n",
       " 'Martínez Rodríguez María',\n",
       " 'Colocador/a',\n",
       " '171',\n",
       " '2005',\n",
       " '-',\n",
       " '-',\n",
       " '5',\n",
       " 'Tur Pérez Aurora',\n",
       " 'Receptor',\n",
       " '172',\n",
       " '2000',\n",
       " '-',\n",
       " '-',\n",
       " '6',\n",
       " 'El Ouarrad Meryem',\n",
       " 'Middle-blocker',\n",
       " '182',\n",
       " '2002',\n",
       " '-',\n",
       " '-',\n",
       " '7',\n",
       " 'Cabrera Cobos Belén',\n",
       " 'Líbero',\n",
       " '173',\n",
       " '1995',\n",
       " '-',\n",
       " '-',\n",
       " '8',\n",
       " 'Mena Fernández Ainhoa',\n",
       " 'Receptor',\n",
       " '175',\n",
       " '2005',\n",
       " '-',\n",
       " '-',\n",
       " '9',\n",
       " 'Parker Emma Diane',\n",
       " 'Receptor',\n",
       " '173',\n",
       " '1999',\n",
       " '-',\n",
       " '-',\n",
       " '10',\n",
       " 'Gomariz Franco Patricia',\n",
       " 'Opuesto',\n",
       " '174',\n",
       " '2005',\n",
       " '-',\n",
       " '-',\n",
       " '11',\n",
       " 'Benhaddi Hamdani Wafae',\n",
       " 'Middle-blocker',\n",
       " '180',\n",
       " '2006',\n",
       " '-',\n",
       " '-',\n",
       " '12',\n",
       " 'Ruiz Soria Paula',\n",
       " 'Colocador/a',\n",
       " '175',\n",
       " '2004',\n",
       " '-',\n",
       " '-',\n",
       " '13',\n",
       " 'López Alcaraz Natalia',\n",
       " 'Receptor',\n",
       " '171',\n",
       " '1995',\n",
       " '-',\n",
       " '-',\n",
       " '14',\n",
       " 'Herrada García Ingrid Margarita',\n",
       " 'Colocador/a',\n",
       " '175',\n",
       " '1995',\n",
       " '-',\n",
       " '-',\n",
       " '15',\n",
       " 'García Vega Alba',\n",
       " 'Opuesto',\n",
       " '173',\n",
       " '1996',\n",
       " '-',\n",
       " '-',\n",
       " '19',\n",
       " 'Jones Suárez Geneve Michele',\n",
       " 'Colocador/a',\n",
       " '179',\n",
       " '1999',\n",
       " '-',\n",
       " '-',\n",
       " '35',\n",
       " 'Rodríguez Meizoso Anne',\n",
       " 'Opuesto',\n",
       " '185',\n",
       " '1997',\n",
       " '-',\n",
       " '-']"
      ]
     },
     "execution_count": 50,
     "metadata": {},
     "output_type": "execute_result"
    }
   ],
   "source": [
    "driver.find_elements(By.XPATH , '//*[@id=\"Content_Main_RPL_Roster\"]/div/div/div/div')[0].text.split('\\n')"
   ]
  },
  {
   "cell_type": "code",
   "execution_count": 59,
   "id": "b2c3c9e0",
   "metadata": {},
   "outputs": [
    {
     "name": "stdout",
     "output_type": "stream",
     "text": [
      "Aceites Abril VoleyOurense\n",
      "Estoy dentro.\n",
      "Extraigo\n",
      "estoy en el primer except\n",
      "ADV Astillero\n",
      "Estoy dentro.\n",
      "Extraigo\n",
      "estoy en el primer except\n",
      "AHORA Voley Xátiva\n",
      "Estoy dentro.\n",
      "Extraigo\n",
      "estoy en el primer except\n",
      "Arona Less4More\n",
      "Estoy dentro.\n",
      "Extraigo\n",
      "estoy en el primer except\n",
      "CAEP Soria\n",
      "Estoy dentro.\n",
      "Extraigo\n",
      "estoy en el primer except\n",
      "CD Voleibol Guía\n",
      "Estoy dentro.\n",
      "Extraigo\n",
      "estoy en el primer except\n",
      "Club Voleibol Esplugues\n",
      "Estoy dentro.\n",
      "Extraigo\n",
      "estoy en el primer except\n",
      "Covirán CDU Atarfe\n",
      "Estoy dentro.\n",
      "Extraigo\n",
      "estoy en el primer except\n",
      "CV Melilla\n",
      "Estoy dentro.\n",
      "Extraigo\n",
      "estoy en el primer except\n",
      "CV Oviedo\n",
      "Estoy dentro.\n",
      "Extraigo\n",
      "estoy en el primer except\n",
      "CV Torrejón\n",
      "Estoy dentro.\n",
      "Extraigo\n",
      "estoy en el primer except\n",
      "CV Torrelavega\n",
      "Estoy dentro.\n",
      "Extraigo\n",
      "estoy en el primer except\n",
      "CV Vall D´Hebron\n",
      "Estoy dentro.\n",
      "Extraigo\n",
      "estoy en el primer except\n",
      "CVB Barça\n",
      "Estoy dentro.\n",
      "Extraigo\n",
      "estoy en el primer except\n",
      "cvleganes.com\n",
      "Estoy dentro.\n",
      "Extraigo\n",
      "estoy en el primer except\n",
      "CVS U Energía Sóller\n",
      "Estoy dentro.\n",
      "Extraigo\n",
      "estoy en el primer except\n",
      "DSV CV Sant Cugat\n",
      "Estoy dentro.\n",
      "Extraigo\n",
      "estoy en el primer except\n",
      "Extremadura Arroyo\n",
      "Estoy dentro.\n",
      "Extraigo\n",
      "estoy en el primer except\n",
      "FC Cartagena - Algar Surmenor\n",
      "algo anda mal aqui: FC Cartagena - Algar Surmenor\n",
      "Fedes Ascensores La Laguna\n",
      "algo anda mal aqui: Fedes Ascensores La Laguna\n",
      "Garden Hotels Mallorca VC\n",
      "algo anda mal aqui: Garden Hotels Mallorca VC\n",
      "Hidramar Gran Canaria\n",
      "Estoy dentro.\n",
      "Extraigo\n",
      "estoy en el primer except\n",
      "Holacv.es Benidorm\n",
      "Estoy dentro.\n",
      "Extraigo\n",
      "estoy en el primer except\n",
      "JS Hotels Cide Palma\n",
      "Estoy dentro.\n",
      "Extraigo\n",
      "estoy en el primer except\n",
      "Madrid Chamberí\n",
      "Estoy dentro.\n",
      "Extraigo\n",
      "estoy en el primer except\n",
      "Mairena Voley Club\n",
      "Estoy dentro.\n",
      "Extraigo\n",
      "estoy en el primer except\n",
      "Medsur Finestrat-Elche\n",
      "Estoy dentro.\n",
      "Extraigo\n",
      "estoy en el primer except\n",
      "Mycaready Premiá Dalt Maresme\n",
      "Estoy dentro.\n",
      "Extraigo\n",
      "estoy en el primer except\n",
      "Ramon Soler CEV L'H\n",
      "Estoy dentro.\n",
      "Extraigo\n",
      "estoy en el primer except\n",
      "Real Grupo de Cultura Covadonga\n",
      "Estoy dentro.\n",
      "Extraigo\n",
      "estoy en el primer except\n",
      "Renovak CV Sant Joan\n",
      "Estoy dentro.\n",
      "Extraigo\n",
      "estoy en el primer except\n",
      "Toyota Teams VSJ\n",
      "Estoy dentro.\n",
      "Extraigo\n",
      "estoy en el primer except\n",
      "Universitat d'Alacant\n",
      "Estoy dentro.\n",
      "Extraigo\n",
      "estoy en el primer except\n",
      "Volei Grau Castelló\n",
      "Estoy dentro.\n",
      "Extraigo\n",
      "estoy en el primer except\n",
      "VP Madrid\n",
      "Estoy dentro.\n",
      "Extraigo\n",
      "estoy en el primer except\n",
      "Zalaeta\n",
      "Estoy dentro.\n",
      "Extraigo\n",
      "estoy en el primer except\n",
      "\n",
      "algo anda mal aqui: \n",
      "\n",
      "algo anda mal aqui: \n",
      "\n",
      "algo anda mal aqui: \n",
      "\n",
      "algo anda mal aqui: \n",
      "\n",
      "algo anda mal aqui: \n",
      "\n",
      "algo anda mal aqui: \n",
      "\n",
      "algo anda mal aqui: \n",
      "\n",
      "algo anda mal aqui: \n",
      "\n",
      "algo anda mal aqui: \n",
      "\n",
      "algo anda mal aqui: \n",
      "\n",
      "algo anda mal aqui: \n",
      "\n",
      "algo anda mal aqui: \n",
      "\n",
      "algo anda mal aqui: \n",
      "\n",
      "algo anda mal aqui: \n",
      "\n",
      "algo anda mal aqui: \n",
      "\n",
      "algo anda mal aqui: \n",
      "\n",
      "algo anda mal aqui: \n",
      "\n",
      "algo anda mal aqui: \n",
      "\n",
      "algo anda mal aqui: \n",
      "\n",
      "algo anda mal aqui: \n",
      "\n",
      "algo anda mal aqui: \n",
      "\n",
      "algo anda mal aqui: \n",
      "\n",
      "algo anda mal aqui: \n",
      "\n",
      "algo anda mal aqui: \n",
      "\n",
      "algo anda mal aqui: \n",
      "\n",
      "algo anda mal aqui: \n",
      "\n",
      "algo anda mal aqui: \n",
      "\n",
      "algo anda mal aqui: \n",
      "\n",
      "algo anda mal aqui: \n",
      "\n",
      "algo anda mal aqui: \n",
      "\n",
      "algo anda mal aqui: \n",
      "\n",
      "algo anda mal aqui: \n",
      "\n",
      "algo anda mal aqui: \n",
      "\n",
      "algo anda mal aqui: \n",
      "\n",
      "algo anda mal aqui: \n",
      "\n",
      "algo anda mal aqui: \n"
     ]
    },
    {
     "ename": "IndexError",
     "evalue": "list index out of range",
     "output_type": "error",
     "traceback": [
      "\u001b[1;31m---------------------------------------------------------------------------\u001b[0m",
      "\u001b[1;31mIndexError\u001b[0m                                Traceback (most recent call last)",
      "Cell \u001b[1;32mIn[59], line 4\u001b[0m\n\u001b[0;32m      1\u001b[0m superLiga_Femenino2\u001b[38;5;241m=\u001b[39m[]\n\u001b[0;32m      2\u001b[0m \u001b[38;5;28;01mfor\u001b[39;00m i \u001b[38;5;129;01min\u001b[39;00m \u001b[38;5;28mrange\u001b[39m(\u001b[38;5;28mlen\u001b[39m(equipo)):\n\u001b[1;32m----> 4\u001b[0m     e \u001b[38;5;241m=\u001b[39m \u001b[43mdriver\u001b[49m\u001b[38;5;241;43m.\u001b[39;49m\u001b[43mfind_elements\u001b[49m\u001b[43m(\u001b[49m\u001b[43mBy\u001b[49m\u001b[38;5;241;43m.\u001b[39;49m\u001b[43mCLASS_NAME\u001b[49m\u001b[43m,\u001b[49m\u001b[43m \u001b[49m\u001b[38;5;124;43m'\u001b[39;49m\u001b[38;5;124;43mrlvI\u001b[39;49m\u001b[38;5;124;43m'\u001b[39;49m\u001b[43m)\u001b[49m\u001b[43m[\u001b[49m\u001b[43mi\u001b[49m\u001b[43m]\u001b[49m\n\u001b[0;32m      6\u001b[0m     \u001b[38;5;28mprint\u001b[39m(e\u001b[38;5;241m.\u001b[39mtext)\n\u001b[0;32m      7\u001b[0m     \u001b[38;5;28;01mtry\u001b[39;00m:\n",
      "\u001b[1;31mIndexError\u001b[0m: list index out of range"
     ]
    }
   ],
   "source": [
    "superLiga_Femenino2=[]\n",
    "for i in range(len(equipo)):\n",
    "    \n",
    "    e = driver.find_elements(By.CLASS_NAME, 'rlvI')[i]\n",
    "    \n",
    "    print(e.text)\n",
    "    try:\n",
    "        \n",
    "        e.click()\n",
    "    \n",
    "        print('Estoy dentro.')\n",
    "    \n",
    "        time.sleep(2)\n",
    "   \n",
    "        superLiga_Femenino2.append(driver.find_elements(By.CLASS_NAME , 't-row')[3].text.split('\\n'))\n",
    "    \n",
    "        print('Extraigo')\n",
    "    \n",
    "        time.sleep(2)\n",
    "    \n",
    "        driver.get('https://rfevb-web.dataproject.com/CompetitionTeamSearch.aspx?ID=122')\n",
    "    \n",
    "        time.sleep(2)\n",
    "        \n",
    "        try:\n",
    "            superLiga_Femenino2.append(driver.find_elements(By.XPATH ,\n",
    "                                                                '//*[@id=\"Content_Main_RPL_Roster\"]/div/div/div/div')[0].text.split('\\n'))\n",
    "   \n",
    "        except:\n",
    "            print('estoy en el primer except')\n",
    "\n",
    "    except:\n",
    "        print(f'algo anda mal aqui: {e.text}')\n",
    "    "
   ]
  },
  {
   "cell_type": "code",
   "execution_count": 71,
   "id": "7f11e84e",
   "metadata": {},
   "outputs": [
    {
     "data": {
      "text/plain": [
       "34"
      ]
     },
     "execution_count": 71,
     "metadata": {},
     "output_type": "execute_result"
    }
   ],
   "source": [
    "len(superLiga_Femenino2)"
   ]
  },
  {
   "cell_type": "markdown",
   "id": "6e7f7afe",
   "metadata": {},
   "source": [
    "# FC Cartagena - Algar Surmenor"
   ]
  },
  {
   "cell_type": "code",
   "execution_count": 62,
   "id": "7086e51f",
   "metadata": {},
   "outputs": [],
   "source": [
    "url = 'https://rfevb-web.dataproject.com/CompetitionTeamDetails.aspx?TeamID=1007&ID=122'"
   ]
  },
  {
   "cell_type": "code",
   "execution_count": 63,
   "id": "e2e40ec9",
   "metadata": {},
   "outputs": [],
   "source": [
    "driver = webdriver.Chrome(options = opciones)\n",
    "driver.get(url)"
   ]
  },
  {
   "cell_type": "code",
   "execution_count": 70,
   "id": "d32b464a",
   "metadata": {},
   "outputs": [],
   "source": [
    "superLiga_Femenino2.append(driver.find_elements(By.XPATH ,'//*[@id=\"Content_Main_RPL_Roster\"]/div/div/div/div')[0].text.split('\\n'))"
   ]
  },
  {
   "cell_type": "markdown",
   "id": "40d95177",
   "metadata": {},
   "source": [
    "# Fedes Ascensores La Laguna\n"
   ]
  },
  {
   "cell_type": "code",
   "execution_count": 72,
   "id": "474dd1f8",
   "metadata": {},
   "outputs": [],
   "source": [
    "url = 'https://rfevb-web.dataproject.com/CompetitionTeamDetails.aspx?TeamID=1027&ID=122'"
   ]
  },
  {
   "cell_type": "code",
   "execution_count": 73,
   "id": "57b2b64a",
   "metadata": {},
   "outputs": [],
   "source": [
    "driver = webdriver.Chrome(options = opciones)\n",
    "driver.get(url)"
   ]
  },
  {
   "cell_type": "code",
   "execution_count": 75,
   "id": "1c420229",
   "metadata": {},
   "outputs": [],
   "source": [
    "superLiga_Femenino2.append(driver.find_elements(By.XPATH ,'//*[@id=\"Content_Main_RPL_Roster\"]/div/div/div/div')[0].text.split('\\n'))"
   ]
  },
  {
   "cell_type": "markdown",
   "id": "36d97402",
   "metadata": {},
   "source": [
    "# Garden Hotels Mallorca VC"
   ]
  },
  {
   "cell_type": "code",
   "execution_count": 76,
   "id": "99a94999",
   "metadata": {},
   "outputs": [],
   "source": [
    "url = 'https://rfevb-web.dataproject.com/CompetitionTeamDetails.aspx?TeamID=1027&ID=122'"
   ]
  },
  {
   "cell_type": "code",
   "execution_count": 77,
   "id": "3f5932f0",
   "metadata": {},
   "outputs": [],
   "source": [
    "driver = webdriver.Chrome(options = opciones)\n",
    "driver.get(url)"
   ]
  },
  {
   "cell_type": "code",
   "execution_count": 78,
   "id": "38677cfe",
   "metadata": {},
   "outputs": [],
   "source": [
    "superLiga_Femenino2.append(driver.find_elements(By.XPATH ,'//*[@id=\"Content_Main_RPL_Roster\"]/div/div/div/div')[0].text.split('\\n'))"
   ]
  },
  {
   "cell_type": "code",
   "execution_count": 79,
   "id": "2dbe228f",
   "metadata": {},
   "outputs": [
    {
     "data": {
      "text/plain": [
       "36"
      ]
     },
     "execution_count": 79,
     "metadata": {},
     "output_type": "execute_result"
    }
   ],
   "source": [
    "len(superLiga_Femenino2)"
   ]
  },
  {
   "cell_type": "code",
   "execution_count": null,
   "id": "afb125d8",
   "metadata": {},
   "outputs": [],
   "source": []
  }
 ],
 "metadata": {
  "kernelspec": {
   "display_name": "clase",
   "language": "python",
   "name": "clase"
  },
  "language_info": {
   "codemirror_mode": {
    "name": "ipython",
    "version": 3
   },
   "file_extension": ".py",
   "mimetype": "text/x-python",
   "name": "python",
   "nbconvert_exporter": "python",
   "pygments_lexer": "ipython3",
   "version": "3.10.13"
  }
 },
 "nbformat": 4,
 "nbformat_minor": 5
}
