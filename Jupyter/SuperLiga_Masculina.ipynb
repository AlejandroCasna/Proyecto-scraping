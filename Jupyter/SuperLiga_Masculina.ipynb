{
 "cells": [
  {
   "cell_type": "code",
   "execution_count": null,
   "id": "1125c781",
   "metadata": {},
   "outputs": [],
   "source": [
    "import pandas as pd\n",
    "from selenium import webdriver\n",
    "from selenium.webdriver.chrome.options import Options\n",
    "from webdriver_manager.chrome import ChromeDriverManager\n",
    "from selenium.webdriver.common.by import By\n",
    "import multiprocessing as mp\n",
    "from joblib import Parallel, delayed\n",
    "from selenium.webdriver.support.ui import Select\n",
    "import time\n",
    "import pandas as pd"
   ]
  },
  {
   "cell_type": "code",
   "execution_count": null,
   "id": "3123162a",
   "metadata": {},
   "outputs": [],
   "source": [
    "opciones=Options()\n",
    "opciones.add_experimental_option('excludeSwitches', ['enable-automation'])\n",
    "opciones.add_experimental_option('useAutomationExtension', False)\n",
    "opciones.add_argument('--incognito')\n",
    "opciones.add_argument('--start-maximized')"
   ]
  },
  {
   "cell_type": "code",
   "execution_count": null,
   "id": "d30307df",
   "metadata": {},
   "outputs": [],
   "source": [
    "url = 'https://www.rfevb.com/competiciones/superliga-masculina'\n",
    "driver = webdriver.Chrome(options = opciones)\n",
    "driver.get(url)"
   ]
  },
  {
   "cell_type": "code",
   "execution_count": null,
   "id": "c8af9f14",
   "metadata": {},
   "outputs": [],
   "source": [
    "# Click cookies\n",
    "driver.find_element(By.XPATH , '//*[@id=\"lnkCookie\"]').click()"
   ]
  },
  {
   "cell_type": "code",
   "execution_count": null,
   "id": "eb7a4bd0",
   "metadata": {},
   "outputs": [],
   "source": [
    "# Entramos en plantilla\n",
    "driver.find_element(By.XPATH , '//*[@id=\"miWrapper\"]/ul/li[2]/ul/li[1]/a').click()"
   ]
  },
  {
   "cell_type": "code",
   "execution_count": null,
   "id": "5dc33b33",
   "metadata": {},
   "outputs": [],
   "source": [
    "equipos = driver.find_elements(By.CLASS_NAME, 'rlvI')[0:12]\n",
    "# Verificamos que los que nos devuelve son datos de mas entonces reiniciamos la lista con los elementos que nos interesa."
   ]
  },
  {
   "cell_type": "code",
   "execution_count": null,
   "id": "a95647df",
   "metadata": {},
   "outputs": [],
   "source": [
    "superLiga_Masculino=[]\n",
    "for i in range(12):\n",
    "    \n",
    "    e = driver.find_elements(By.CLASS_NAME, 'rlvI')[i]\n",
    "    \n",
    "    print(e.text)\n",
    "    \n",
    "    e.click()\n",
    "    \n",
    "    print('Estoy dentro.')\n",
    "    \n",
    "    time.sleep(2)\n",
    "   \n",
    "    superLiga_Masculino.append(driver.find_elements(By.CLASS_NAME , 't-row')[3].text.split('\\n'))\n",
    "    \n",
    "    print('Extraigo')\n",
    "    \n",
    "    time.sleep(2)\n",
    "    \n",
    "    driver.get(url)\n",
    "    \n",
    "    time.sleep(2)\n",
    "    "
   ]
  },
  {
   "cell_type": "code",
   "execution_count": 1,
   "id": "cd1858ee",
   "metadata": {},
   "outputs": [
    {
     "ename": "NameError",
     "evalue": "name 'superLiga_Masculino' is not defined",
     "output_type": "error",
     "traceback": [
      "\u001b[1;31m---------------------------------------------------------------------------\u001b[0m",
      "\u001b[1;31mNameError\u001b[0m                                 Traceback (most recent call last)",
      "Cell \u001b[1;32mIn[1], line 1\u001b[0m\n\u001b[1;32m----> 1\u001b[0m \u001b[43msuperLiga_Masculino\u001b[49m\n",
      "\u001b[1;31mNameError\u001b[0m: name 'superLiga_Masculino' is not defined"
     ]
    }
   ],
   "source": [
    "superLiga_Masculino"
   ]
  },
  {
   "cell_type": "code",
   "execution_count": null,
   "id": "2c62cf21",
   "metadata": {},
   "outputs": [],
   "source": []
  }
 ],
 "metadata": {
  "kernelspec": {
   "display_name": "clase",
   "language": "python",
   "name": "clase"
  },
  "language_info": {
   "codemirror_mode": {
    "name": "ipython",
    "version": 3
   },
   "file_extension": ".py",
   "mimetype": "text/x-python",
   "name": "python",
   "nbconvert_exporter": "python",
   "pygments_lexer": "ipython3",
   "version": "3.10.13"
  }
 },
 "nbformat": 4,
 "nbformat_minor": 5
}
