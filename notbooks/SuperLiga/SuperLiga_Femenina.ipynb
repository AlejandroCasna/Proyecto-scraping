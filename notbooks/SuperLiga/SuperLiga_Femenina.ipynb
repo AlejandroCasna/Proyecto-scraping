{
 "cells": [
  {
   "cell_type": "code",
   "execution_count": 2,
   "id": "5496aba6",
   "metadata": {},
   "outputs": [],
   "source": [
    "import pandas as pd\n",
    "from selenium import webdriver\n",
    "from selenium.webdriver.chrome.options import Options\n",
    "from webdriver_manager.chrome import ChromeDriverManager\n",
    "from selenium.webdriver.common.by import By\n",
    "import multiprocessing as mp\n",
    "from joblib import Parallel, delayed\n",
    "from selenium.webdriver.support.ui import Select\n",
    "import time"
   ]
  },
  {
   "cell_type": "code",
   "execution_count": 3,
   "id": "f6aff6a4",
   "metadata": {},
   "outputs": [],
   "source": [
    "opciones=Options()\n",
    "opciones.add_experimental_option('excludeSwitches', ['enable-automation'])\n",
    "opciones.add_experimental_option('useAutomationExtension', False)\n",
    "opciones.add_argument('--incognito')\n",
    "opciones.add_argument('--start-maximized') "
   ]
  },
  {
   "cell_type": "code",
   "execution_count": 4,
   "id": "dc671030",
   "metadata": {},
   "outputs": [],
   "source": [
    "url = 'https://www.rfevb.com/competiciones/liga-iberdrola'\n",
    "driver = webdriver.Chrome(options = opciones)\n",
    "driver.get(url)"
   ]
  },
  {
   "cell_type": "code",
   "execution_count": 5,
   "id": "c05e4aee",
   "metadata": {},
   "outputs": [],
   "source": [
    "# Click cookies\n",
    "driver.find_element(By.XPATH , '//*[@id=\"lnkCookie\"]').click()"
   ]
  },
  {
   "cell_type": "code",
   "execution_count": 6,
   "id": "3d0aecb6",
   "metadata": {},
   "outputs": [],
   "source": [
    "driver.find_element(By.XPATH , '//*[@id=\"miWrapper\"]/ul/li[2]/ul/li[1]/a').click()"
   ]
  },
  {
   "cell_type": "code",
   "execution_count": 13,
   "id": "ef9b6021",
   "metadata": {},
   "outputs": [],
   "source": [
    "equipos=driver.find_elements(By.CLASS_NAME, 'rlvI')[0:12]"
   ]
  },
  {
   "cell_type": "code",
   "execution_count": 17,
   "id": "6ab3c946",
   "metadata": {},
   "outputs": [
    {
     "name": "stdout",
     "output_type": "stream",
     "text": [
      "Arenal Emevé\n",
      "Estoy dentro.\n",
      "Extraigo\n",
      "Avarca de Menorca\n",
      "Estoy dentro.\n",
      "Extraigo\n",
      "CV Hidramar Gran Canaria\n",
      "Estoy dentro.\n",
      "Extraigo\n",
      "CV Sayre CC La Ballena\n",
      "Estoy dentro.\n",
      "Extraigo\n",
      "CV Tenerife Libby's La Laguna\n",
      "Estoy dentro.\n",
      "Extraigo\n",
      "DSV CV Sant Cugat\n",
      "Estoy dentro.\n",
      "Extraigo\n",
      "Feel Alcobendas\n",
      "Estoy dentro.\n",
      "Extraigo\n",
      "FP Pro Vóley Cajasol\n",
      "Estoy dentro.\n",
      "Extraigo\n",
      "Heidelberg Volkswagen\n",
      "Estoy dentro.\n",
      "Extraigo\n",
      "Kiele Socuellamos\n",
      "Estoy dentro.\n",
      "Extraigo\n",
      "OCISA Haro Rioja Voley\n",
      "Estoy dentro.\n",
      "Extraigo\n",
      "Santa Cruz Cuesta Piedra\n",
      "Estoy dentro.\n",
      "Extraigo\n"
     ]
    }
   ],
   "source": [
    "superLiga_Femenino=[]\n",
    "for i in range(12):\n",
    "    \n",
    "    e = driver.find_elements(By.CLASS_NAME, 'rlvI')[i]\n",
    "    \n",
    "    print(e.text)\n",
    "    \n",
    "    e.click()\n",
    "    \n",
    "    print('Estoy dentro.')\n",
    "    \n",
    "    time.sleep(2)\n",
    "   \n",
    "    superLiga_Femenino.append(driver.find_elements(By.CLASS_NAME , 't-row')[3].text.split('\\n'))\n",
    "    \n",
    "    print('Extraigo')\n",
    "    \n",
    "    time.sleep(2)\n",
    "    \n",
    "    driver.get('https://rfevb-web.dataproject.com/CompetitionTeamSearch.aspx?ID=123')\n",
    "    \n",
    "    time.sleep(2)"
   ]
  },
  {
   "cell_type": "code",
   "execution_count": 19,
   "id": "70ed314a",
   "metadata": {},
   "outputs": [
    {
     "data": {
      "text/plain": [
       "['#',\n",
       " 'Nombre',\n",
       " 'Posición',\n",
       " 'Año de nacimiento',\n",
       " '1',\n",
       " 'Camino Fernández Carolina',\n",
       " 'Receptor',\n",
       " '2003',\n",
       " '2',\n",
       " 'Lojo Sayans Sandra',\n",
       " 'Receptor',\n",
       " '1991',\n",
       " '4',\n",
       " 'Rodríguez Anllo Icia',\n",
       " 'Opuesto',\n",
       " '1997',\n",
       " '5',\n",
       " 'Valle Regueiro Fatima',\n",
       " 'Middle-blocker',\n",
       " '1980',\n",
       " '7',\n",
       " 'Pérez López Alejandra',\n",
       " 'Opuesto',\n",
       " '2004',\n",
       " '8',\n",
       " 'Mavrommatis López Zoi',\n",
       " 'Receptor',\n",
       " '2005',\n",
       " '9',\n",
       " 'Aranda Patricia',\n",
       " 'Colocador/a',\n",
       " '1979',\n",
       " '10',\n",
       " 'González Pérez Olalla',\n",
       " 'Receptor',\n",
       " '2005',\n",
       " '11',\n",
       " 'Malachias Karyna',\n",
       " 'Middle-blocker',\n",
       " '1999',\n",
       " '12',\n",
       " 'Akamere Ogochukwu Jessica',\n",
       " 'Middle-blocker',\n",
       " '2005',\n",
       " '13',\n",
       " 'Piqueras Rodríguez Emma',\n",
       " 'Líbero',\n",
       " '2004',\n",
       " '15',\n",
       " 'Prol Bruña Lucía',\n",
       " 'Receptor',\n",
       " '1999',\n",
       " '18',\n",
       " 'Diouf Mame',\n",
       " 'Middle-blocker',\n",
       " '-',\n",
       " '19',\n",
       " 'Burgo Durán Ainara',\n",
       " 'Colocador/a',\n",
       " '2003',\n",
       " '20',\n",
       " 'Corbalan María de la Paz',\n",
       " 'Opuesto',\n",
       " '1998',\n",
       " '21',\n",
       " 'Figueira González Lidia',\n",
       " 'Líbero',\n",
       " '2004']"
      ]
     },
     "execution_count": 19,
     "metadata": {},
     "output_type": "execute_result"
    }
   ],
   "source": [
    "superLiga_Femenino[0]"
   ]
  },
  {
   "cell_type": "code",
   "execution_count": null,
   "id": "12299138",
   "metadata": {},
   "outputs": [],
   "source": []
  }
 ],
 "metadata": {
  "kernelspec": {
   "display_name": "clase",
   "language": "python",
   "name": "clase"
  },
  "language_info": {
   "codemirror_mode": {
    "name": "ipython",
    "version": 3
   },
   "file_extension": ".py",
   "mimetype": "text/x-python",
   "name": "python",
   "nbconvert_exporter": "python",
   "pygments_lexer": "ipython3",
   "version": "3.10.13"
  }
 },
 "nbformat": 4,
 "nbformat_minor": 5
}
